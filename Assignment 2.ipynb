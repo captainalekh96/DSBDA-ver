{
 "cells": [
  {
   "cell_type": "code",
   "execution_count": 1,
   "metadata": {
    "colab": {
     "base_uri": "https://localhost:8080/",
     "height": 238
    },
    "id": "Z_RY32pEq4bK",
    "outputId": "0ff825ce-95ae-44d0-ce1e-247c0058c8b1"
   },
   "outputs": [
    {
     "data": {
      "text/html": [
       "<div>\n",
       "<style scoped>\n",
       "    .dataframe tbody tr th:only-of-type {\n",
       "        vertical-align: middle;\n",
       "    }\n",
       "\n",
       "    .dataframe tbody tr th {\n",
       "        vertical-align: top;\n",
       "    }\n",
       "\n",
       "    .dataframe thead th {\n",
       "        text-align: right;\n",
       "    }\n",
       "</style>\n",
       "<table border=\"1\" class=\"dataframe\">\n",
       "  <thead>\n",
       "    <tr style=\"text-align: right;\">\n",
       "      <th></th>\n",
       "      <th>Name</th>\n",
       "      <th>Age</th>\n",
       "      <th>Gender</th>\n",
       "      <th>Marks</th>\n",
       "      <th>PhD</th>\n",
       "    </tr>\n",
       "  </thead>\n",
       "  <tbody>\n",
       "    <tr>\n",
       "      <th>0</th>\n",
       "      <td>Pranav</td>\n",
       "      <td>21</td>\n",
       "      <td>M</td>\n",
       "      <td>75</td>\n",
       "      <td>Y</td>\n",
       "    </tr>\n",
       "    <tr>\n",
       "      <th>1</th>\n",
       "      <td>Alekh</td>\n",
       "      <td>22</td>\n",
       "      <td>M</td>\n",
       "      <td>80</td>\n",
       "      <td>Y</td>\n",
       "    </tr>\n",
       "    <tr>\n",
       "      <th>2</th>\n",
       "      <td>Joe</td>\n",
       "      <td>50</td>\n",
       "      <td>M</td>\n",
       "      <td>89</td>\n",
       "      <td>N</td>\n",
       "    </tr>\n",
       "    <tr>\n",
       "      <th>3</th>\n",
       "      <td>Vladimir</td>\n",
       "      <td>55</td>\n",
       "      <td>M</td>\n",
       "      <td>67</td>\n",
       "      <td>Y</td>\n",
       "    </tr>\n",
       "    <tr>\n",
       "      <th>4</th>\n",
       "      <td>Angel</td>\n",
       "      <td>24</td>\n",
       "      <td>F</td>\n",
       "      <td>67</td>\n",
       "      <td>N</td>\n",
       "    </tr>\n",
       "    <tr>\n",
       "      <th>5</th>\n",
       "      <td>Smriti</td>\n",
       "      <td>30</td>\n",
       "      <td>F</td>\n",
       "      <td>78</td>\n",
       "      <td>Y</td>\n",
       "    </tr>\n",
       "  </tbody>\n",
       "</table>\n",
       "</div>"
      ],
      "text/plain": [
       "       Name  Age Gender  Marks PhD\n",
       "0    Pranav   21      M     75   Y\n",
       "1     Alekh   22      M     80   Y\n",
       "2       Joe   50      M     89   N\n",
       "3  Vladimir   55      M     67   Y\n",
       "4     Angel   24      F     67   N\n",
       "5    Smriti   30      F     78   Y"
      ]
     },
     "execution_count": 1,
     "metadata": {},
     "output_type": "execute_result"
    }
   ],
   "source": [
    "import pandas as pd\n",
    "import numpy as np\n",
    "import statistics\n",
    "\n",
    "data={'Name':['Pranav','Alekh','Joe','Vladimir','Angel','Smriti'],\n",
    "      'Age':[21,22,50,55,24,30],\n",
    "      'Gender':['M','M','M','M','F','F'],\n",
    "      'Marks':[75,80,89,67,67,78],\n",
    "      'PhD':['Y','Y','N','Y','N','Y']\n",
    "      }\n",
    "df=pd.DataFrame(data)\n",
    "df\n"
   ]
  },
  {
   "cell_type": "code",
   "execution_count": 2,
   "metadata": {
    "colab": {
     "base_uri": "https://localhost:8080/",
     "height": 238
    },
    "id": "jB4adQLjMlY1",
    "outputId": "d91a9deb-c6d5-424c-f2ba-ca9f18957718"
   },
   "outputs": [
    {
     "data": {
      "text/html": [
       "<div>\n",
       "<style scoped>\n",
       "    .dataframe tbody tr th:only-of-type {\n",
       "        vertical-align: middle;\n",
       "    }\n",
       "\n",
       "    .dataframe tbody tr th {\n",
       "        vertical-align: top;\n",
       "    }\n",
       "\n",
       "    .dataframe thead th {\n",
       "        text-align: right;\n",
       "    }\n",
       "</style>\n",
       "<table border=\"1\" class=\"dataframe\">\n",
       "  <thead>\n",
       "    <tr style=\"text-align: right;\">\n",
       "      <th></th>\n",
       "      <th>Name</th>\n",
       "      <th>Age</th>\n",
       "      <th>Gender</th>\n",
       "      <th>Marks</th>\n",
       "      <th>PhD</th>\n",
       "    </tr>\n",
       "  </thead>\n",
       "  <tbody>\n",
       "    <tr>\n",
       "      <th>0</th>\n",
       "      <td>Pranav</td>\n",
       "      <td>21.0</td>\n",
       "      <td>M</td>\n",
       "      <td>75.0</td>\n",
       "      <td>Y</td>\n",
       "    </tr>\n",
       "    <tr>\n",
       "      <th>1</th>\n",
       "      <td>Alekh</td>\n",
       "      <td>22.0</td>\n",
       "      <td>M</td>\n",
       "      <td>80.0</td>\n",
       "      <td>Y</td>\n",
       "    </tr>\n",
       "    <tr>\n",
       "      <th>2</th>\n",
       "      <td>Joe</td>\n",
       "      <td>50.0</td>\n",
       "      <td>N/a</td>\n",
       "      <td>89.0</td>\n",
       "      <td>N</td>\n",
       "    </tr>\n",
       "    <tr>\n",
       "      <th>3</th>\n",
       "      <td>Vladimir</td>\n",
       "      <td>55.0</td>\n",
       "      <td>M</td>\n",
       "      <td>NaN</td>\n",
       "      <td>15</td>\n",
       "    </tr>\n",
       "    <tr>\n",
       "      <th>4</th>\n",
       "      <td>Angel</td>\n",
       "      <td>NaN</td>\n",
       "      <td>F</td>\n",
       "      <td>67.0</td>\n",
       "      <td>N</td>\n",
       "    </tr>\n",
       "    <tr>\n",
       "      <th>5</th>\n",
       "      <td>Smriti</td>\n",
       "      <td>30.0</td>\n",
       "      <td>na</td>\n",
       "      <td>78.0</td>\n",
       "      <td>NaN</td>\n",
       "    </tr>\n",
       "  </tbody>\n",
       "</table>\n",
       "</div>"
      ],
      "text/plain": [
       "       Name   Age Gender  Marks  PhD\n",
       "0    Pranav  21.0      M   75.0    Y\n",
       "1     Alekh  22.0      M   80.0    Y\n",
       "2       Joe  50.0    N/a   89.0    N\n",
       "3  Vladimir  55.0      M    NaN   15\n",
       "4     Angel   NaN      F   67.0    N\n",
       "5    Smriti  30.0     na   78.0  NaN"
      ]
     },
     "execution_count": 2,
     "metadata": {},
     "output_type": "execute_result"
    }
   ],
   "source": [
    "\n",
    "data2={'Name':['Pranav','Alekh','Joe','Vladimir','Angel','Smriti'],\n",
    "      'Age':[21,22,50,55,np.NaN,30],\n",
    "      'Gender':['M','M','N/a','M','F','na'],\n",
    "      'Marks':[75,80,89,np.nan,67,78],\n",
    "      'PhD':['Y','Y','N',15,'N',np.nan]\n",
    "}\n",
    "df2=pd.DataFrame(data2)\n",
    "df2"
   ]
  },
  {
   "cell_type": "code",
   "execution_count": 3,
   "metadata": {
    "colab": {
     "base_uri": "https://localhost:8080/"
    },
    "id": "Xnj1G6jbNtte",
    "outputId": "7bc4a3b2-c782-4ebc-892e-5fb85e7b251f"
   },
   "outputs": [
    {
     "name": "stdout",
     "output_type": "stream",
     "text": [
      "0    21.0\n",
      "1    22.0\n",
      "2    50.0\n",
      "3    55.0\n",
      "4     NaN\n",
      "5    30.0\n",
      "Name: Age, dtype: float64\n",
      "0    False\n",
      "1    False\n",
      "2    False\n",
      "3    False\n",
      "4     True\n",
      "5    False\n",
      "Name: Age, dtype: bool\n"
     ]
    }
   ],
   "source": [
    "print (df2['Age'])\n",
    "print(df2['Age'].isnull())"
   ]
  },
  {
   "cell_type": "code",
   "execution_count": 4,
   "metadata": {
    "colab": {
     "base_uri": "https://localhost:8080/"
    },
    "id": "FRJxaVX4OB5T",
    "outputId": "fa66c845-202d-4db9-bc1e-7dc3e5550526"
   },
   "outputs": [
    {
     "name": "stdout",
     "output_type": "stream",
     "text": [
      "0      M\n",
      "1      M\n",
      "2    N/a\n",
      "3      M\n",
      "4      F\n",
      "5     na\n",
      "Name: Gender, dtype: object\n",
      "0    False\n",
      "1    False\n",
      "2    False\n",
      "3    False\n",
      "4    False\n",
      "5    False\n",
      "Name: Gender, dtype: bool\n"
     ]
    }
   ],
   "source": [
    "print(df2['Gender'])\n",
    "print(df2['Gender'].isnull())"
   ]
  },
  {
   "cell_type": "code",
   "execution_count": 5,
   "metadata": {
    "id": "WtxTAGUHOROj"
   },
   "outputs": [
    {
     "name": "stdout",
     "output_type": "stream",
     "text": [
      "Name      0\n",
      "Age       1\n",
      "Gender    0\n",
      "Marks     1\n",
      "PhD       1\n",
      "dtype: int64\n"
     ]
    }
   ],
   "source": [
    "print(df2.isnull().sum())\n"
   ]
  },
  {
   "cell_type": "code",
   "execution_count": 5,
   "metadata": {
    "colab": {
     "base_uri": "https://localhost:8080/"
    },
    "id": "DQ348QX9QaIB",
    "outputId": "568a2afe-b945-4339-c670-5009983fb9d5"
   },
   "outputs": [
    {
     "name": "stdout",
     "output_type": "stream",
     "text": [
      "0      Y\n",
      "1      Y\n",
      "2      N\n",
      "3     15\n",
      "4      N\n",
      "5    NaN\n",
      "Name: PhD, dtype: object\n",
      "0    False\n",
      "1    False\n",
      "2    False\n",
      "3    False\n",
      "4    False\n",
      "5     True\n",
      "Name: PhD, dtype: bool\n"
     ]
    }
   ],
   "source": [
    "print(df2['PhD'])\n",
    "print(df2['PhD'].isnull())"
   ]
  },
  {
   "cell_type": "code",
   "execution_count": 6,
   "metadata": {
    "colab": {
     "base_uri": "https://localhost:8080/"
    },
    "id": "TnEyT4iyQuS9",
    "outputId": "09c6872b-b6dd-4751-f88b-e23219967f18"
   },
   "outputs": [
    {
     "name": "stdout",
     "output_type": "stream",
     "text": [
      "0      Y\n",
      "1      Y\n",
      "2      N\n",
      "3    NaN\n",
      "4      N\n",
      "5    NaN\n",
      "Name: PhD, dtype: object\n",
      "0    False\n",
      "1    False\n",
      "2    False\n",
      "3     True\n",
      "4    False\n",
      "5     True\n",
      "Name: PhD, dtype: bool\n"
     ]
    }
   ],
   "source": [
    "#Detecting numbers\n",
    "cnt=0\n",
    "for row in df2['PhD']:\n",
    "  try:\n",
    "    int(row)\n",
    "    df2.loc[cnt,'PhD']=np.nan\n",
    "  except ValueError:\n",
    "    pass\n",
    "  cnt+=1\n",
    "print(df2['PhD'])\n",
    "print(df2['PhD'].isnull())"
   ]
  },
  {
   "cell_type": "markdown",
   "metadata": {
    "id": "zcdU-nlNyYha"
   },
   "source": []
  },
  {
   "cell_type": "code",
   "execution_count": 7,
   "metadata": {
    "colab": {
     "base_uri": "https://localhost:8080/",
     "height": 296
    },
    "id": "Jw4gG-plyY7S",
    "outputId": "47107146-7b0f-4141-f41f-23183db9f579"
   },
   "outputs": [
    {
     "data": {
      "text/plain": [
       "<AxesSubplot:xlabel='Age'>"
      ]
     },
     "execution_count": 7,
     "metadata": {},
     "output_type": "execute_result"
    },
    {
     "data": {
      "image/png": "[encoded data removed]",
      "text/plain": [
       "<Figure size 432x288 with 1 Axes>"
      ]
     },
     "metadata": {
      "needs_background": "light"
     },
     "output_type": "display_data"
    }
   ],
   "source": [
    "import seaborn as sns\n",
    "import matplotlib.pyplot as plt\n",
    "sns.boxplot(x=df['Age'])"
   ]
  },
  {
   "cell_type": "code",
   "execution_count": 8,
   "metadata": {
    "colab": {
     "base_uri": "https://localhost:8080/"
    },
    "id": "7Dis0WL20TXy",
    "outputId": "f4c3b885-c91c-4337-e9ca-0cf2725c9060"
   },
   "outputs": [
    {
     "name": "stdout",
     "output_type": "stream",
     "text": [
      "(array([0, 1, 2, 3, 4, 5], dtype=int64),)\n"
     ]
    }
   ],
   "source": [
    "#position of outlinear\n",
    "print(np.where(df['Age']>20))"
   ]
  },
  {
   "cell_type": "code",
   "execution_count": 9,
   "metadata": {
    "colab": {
     "base_uri": "https://localhost:8080/",
     "height": 390
    },
    "id": "hU3cW4DGGnYe",
    "outputId": "88090c73-8ad0-43d3-8a60-a2670c3c67e2"
   },
   "outputs": [
    {
     "data": {
      "image/png": "[encoded data removed]",
      "text/plain": [
       "<Figure size 576x432 with 1 Axes>"
      ]
     },
     "metadata": {
      "needs_background": "light"
     },
     "output_type": "display_data"
    }
   ],
   "source": [
    "fig,x=plt.subplots(figsize=(8,6))\n",
    "ax=plt.hist(df['Age'],bins=30,color='g',edgecolor='w')\n",
    "plt.title('Histogram')\n",
    "plt.show()"
   ]
  },
  {
   "cell_type": "code",
   "execution_count": 10,
   "metadata": {
    "colab": {
     "base_uri": "https://localhost:8080/",
     "height": 337
    },
    "id": "qS7zx_V118lu",
    "outputId": "f98ddf94-b046-4a40-87d6-7cdd0471bd61"
   },
   "outputs": [
    {
     "data": {
      "image/png": "[encoded data removed]",
      "text/plain": [
       "<Figure size 360x360 with 1 Axes>"
      ]
     },
     "metadata": {
      "needs_background": "light"
     },
     "output_type": "display_data"
    }
   ],
   "source": [
    "fig,ax=plt.subplots(figsize=(5,5))\n",
    "ax.scatter(df['Age'],df['Marks'])\n",
    "\n",
    "#x-axis label\n",
    "ax.set_xlabel('Age')\n",
    "\n",
    "#y- axis label\n",
    "ax.set_ylabel('Marks')\n",
    "plt.show()"
   ]
  },
  {
   "cell_type": "code",
   "execution_count": 11,
   "metadata": {
    "colab": {
     "base_uri": "https://localhost:8080/",
     "height": 238
    },
    "id": "JjhWba4AELwt",
    "outputId": "b8722895-55ac-4319-a949-f72fdd830ebe"
   },
   "outputs": [
    {
     "data": {
      "text/html": [
       "<div>\n",
       "<style scoped>\n",
       "    .dataframe tbody tr th:only-of-type {\n",
       "        vertical-align: middle;\n",
       "    }\n",
       "\n",
       "    .dataframe tbody tr th {\n",
       "        vertical-align: top;\n",
       "    }\n",
       "\n",
       "    .dataframe thead th {\n",
       "        text-align: right;\n",
       "    }\n",
       "</style>\n",
       "<table border=\"1\" class=\"dataframe\">\n",
       "  <thead>\n",
       "    <tr style=\"text-align: right;\">\n",
       "      <th></th>\n",
       "      <th>Name</th>\n",
       "      <th>Age</th>\n",
       "      <th>Gender</th>\n",
       "      <th>Marks</th>\n",
       "      <th>PhD</th>\n",
       "      <th>Log_Age</th>\n",
       "    </tr>\n",
       "  </thead>\n",
       "  <tbody>\n",
       "    <tr>\n",
       "      <th>0</th>\n",
       "      <td>Pranav</td>\n",
       "      <td>21</td>\n",
       "      <td>M</td>\n",
       "      <td>75</td>\n",
       "      <td>Y</td>\n",
       "      <td>3.044522</td>\n",
       "    </tr>\n",
       "    <tr>\n",
       "      <th>1</th>\n",
       "      <td>Alekh</td>\n",
       "      <td>22</td>\n",
       "      <td>M</td>\n",
       "      <td>80</td>\n",
       "      <td>Y</td>\n",
       "      <td>3.091042</td>\n",
       "    </tr>\n",
       "    <tr>\n",
       "      <th>2</th>\n",
       "      <td>Joe</td>\n",
       "      <td>50</td>\n",
       "      <td>M</td>\n",
       "      <td>89</td>\n",
       "      <td>N</td>\n",
       "      <td>3.912023</td>\n",
       "    </tr>\n",
       "    <tr>\n",
       "      <th>3</th>\n",
       "      <td>Vladimir</td>\n",
       "      <td>55</td>\n",
       "      <td>M</td>\n",
       "      <td>67</td>\n",
       "      <td>Y</td>\n",
       "      <td>4.007333</td>\n",
       "    </tr>\n",
       "    <tr>\n",
       "      <th>4</th>\n",
       "      <td>Angel</td>\n",
       "      <td>24</td>\n",
       "      <td>F</td>\n",
       "      <td>67</td>\n",
       "      <td>N</td>\n",
       "      <td>3.178054</td>\n",
       "    </tr>\n",
       "    <tr>\n",
       "      <th>5</th>\n",
       "      <td>Smriti</td>\n",
       "      <td>30</td>\n",
       "      <td>F</td>\n",
       "      <td>78</td>\n",
       "      <td>Y</td>\n",
       "      <td>3.401197</td>\n",
       "    </tr>\n",
       "  </tbody>\n",
       "</table>\n",
       "</div>"
      ],
      "text/plain": [
       "       Name  Age Gender  Marks PhD   Log_Age\n",
       "0    Pranav   21      M     75   Y  3.044522\n",
       "1     Alekh   22      M     80   Y  3.091042\n",
       "2       Joe   50      M     89   N  3.912023\n",
       "3  Vladimir   55      M     67   Y  4.007333\n",
       "4     Angel   24      F     67   N  3.178054\n",
       "5    Smriti   30      F     78   Y  3.401197"
      ]
     },
     "execution_count": 11,
     "metadata": {},
     "output_type": "execute_result"
    }
   ],
   "source": [
    "df['Log_Age']=np.log(df['Age'])\n",
    "df"
   ]
  },
  {
   "cell_type": "code",
   "execution_count": 12,
   "metadata": {
    "colab": {
     "base_uri": "https://localhost:8080/",
     "height": 238
    },
    "id": "1Z7HL02PFEJ2",
    "outputId": "def25952-9fe1-40e8-b43c-973a3bc90e5c"
   },
   "outputs": [
    {
     "data": {
      "text/html": [
       "<div>\n",
       "<style scoped>\n",
       "    .dataframe tbody tr th:only-of-type {\n",
       "        vertical-align: middle;\n",
       "    }\n",
       "\n",
       "    .dataframe tbody tr th {\n",
       "        vertical-align: top;\n",
       "    }\n",
       "\n",
       "    .dataframe thead th {\n",
       "        text-align: right;\n",
       "    }\n",
       "</style>\n",
       "<table border=\"1\" class=\"dataframe\">\n",
       "  <thead>\n",
       "    <tr style=\"text-align: right;\">\n",
       "      <th></th>\n",
       "      <th>Name</th>\n",
       "      <th>Age</th>\n",
       "      <th>Gender</th>\n",
       "      <th>Marks</th>\n",
       "      <th>PhD</th>\n",
       "      <th>Log_Age</th>\n",
       "    </tr>\n",
       "  </thead>\n",
       "  <tbody>\n",
       "    <tr>\n",
       "      <th>0</th>\n",
       "      <td>Pranav</td>\n",
       "      <td>0.000000</td>\n",
       "      <td>M</td>\n",
       "      <td>0.363636</td>\n",
       "      <td>Y</td>\n",
       "      <td>3.044522</td>\n",
       "    </tr>\n",
       "    <tr>\n",
       "      <th>1</th>\n",
       "      <td>Alekh</td>\n",
       "      <td>0.029412</td>\n",
       "      <td>M</td>\n",
       "      <td>0.590909</td>\n",
       "      <td>Y</td>\n",
       "      <td>3.091042</td>\n",
       "    </tr>\n",
       "    <tr>\n",
       "      <th>2</th>\n",
       "      <td>Joe</td>\n",
       "      <td>0.852941</td>\n",
       "      <td>M</td>\n",
       "      <td>1.000000</td>\n",
       "      <td>N</td>\n",
       "      <td>3.912023</td>\n",
       "    </tr>\n",
       "    <tr>\n",
       "      <th>3</th>\n",
       "      <td>Vladimir</td>\n",
       "      <td>1.000000</td>\n",
       "      <td>M</td>\n",
       "      <td>0.000000</td>\n",
       "      <td>Y</td>\n",
       "      <td>4.007333</td>\n",
       "    </tr>\n",
       "    <tr>\n",
       "      <th>4</th>\n",
       "      <td>Angel</td>\n",
       "      <td>0.088235</td>\n",
       "      <td>F</td>\n",
       "      <td>0.000000</td>\n",
       "      <td>N</td>\n",
       "      <td>3.178054</td>\n",
       "    </tr>\n",
       "    <tr>\n",
       "      <th>5</th>\n",
       "      <td>Smriti</td>\n",
       "      <td>0.264706</td>\n",
       "      <td>F</td>\n",
       "      <td>0.500000</td>\n",
       "      <td>Y</td>\n",
       "      <td>3.401197</td>\n",
       "    </tr>\n",
       "  </tbody>\n",
       "</table>\n",
       "</div>"
      ],
      "text/plain": [
       "       Name       Age Gender     Marks PhD   Log_Age\n",
       "0    Pranav  0.000000      M  0.363636   Y  3.044522\n",
       "1     Alekh  0.029412      M  0.590909   Y  3.091042\n",
       "2       Joe  0.852941      M  1.000000   N  3.912023\n",
       "3  Vladimir  1.000000      M  0.000000   Y  4.007333\n",
       "4     Angel  0.088235      F  0.000000   N  3.178054\n",
       "5    Smriti  0.264706      F  0.500000   Y  3.401197"
      ]
     },
     "execution_count": 12,
     "metadata": {},
     "output_type": "execute_result"
    }
   ],
   "source": [
    "df_scaled=df.copy()\n",
    "col=['Age','Marks']\n",
    "features=df_scaled[col]\n",
    "from sklearn.preprocessing import MinMaxScaler\n",
    "scaler=MinMaxScaler()\n",
    "df_scaled[col]=scaler.fit_transform(features.values)\n",
    "df_scaled"
   ]
  }
 ],
 "metadata": {
  "colab": {
   "collapsed_sections": [],
   "name": "Assingment2.ipynb",
   "provenance": []
  },
  "kernelspec": {
   "display_name": "Python 3 (ipykernel)",
   "language": "python",
   "name": "python3"
  },
  "language_info": {
   "codemirror_mode": {
    "name": "ipython",
    "version": 3
   },
   "file_extension": ".py",
   "mimetype": "text/x-python",
   "name": "python",
   "nbconvert_exporter": "python",
   "pygments_lexer": "ipython3",
   "version": "3.9.7"
  }
 },
 "nbformat": 4,
 "nbformat_minor": 1
}
